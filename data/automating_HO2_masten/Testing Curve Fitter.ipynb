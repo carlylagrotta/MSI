{
 "cells": [
  {
   "cell_type": "code",
   "execution_count": null,
   "metadata": {},
   "outputs": [],
   "source": [
    "import numpy as np\n",
    "import matplotlib.pyplot as plt\n",
    "from matplotlib import gridspec\n",
    "from scipy.signal import argrelmax\n",
    "from scipy.ndimage.filters import gaussian_filter1d\n",
    "\n",
    "solar_elevation_angle = \n",
    "\n",
    "fig, ax = plt.subplots()    \n",
    "ax.set_title('Solar elevation angle')\n",
    "ax.set_xlabel('Scanline')\n",
    "ax.set_ylabel('Solar elevation angle [deg]')\n",
    "ax.plot(solar_elevation_angle)\n",
    "plt.show()"
   ]
  }
 ],
 "metadata": {
  "kernelspec": {
   "display_name": "Python 3",
   "language": "python",
   "name": "python3"
  },
  "language_info": {
   "codemirror_mode": {
    "name": "ipython",
    "version": 3
   },
   "file_extension": ".py",
   "mimetype": "text/x-python",
   "name": "python",
   "nbconvert_exporter": "python",
   "pygments_lexer": "ipython3",
   "version": "3.7.1"
  }
 },
 "nbformat": 4,
 "nbformat_minor": 2
}
