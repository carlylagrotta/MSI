{
 "cells": [
  {
   "cell_type": "code",
   "execution_count": 1,
   "metadata": {},
   "outputs": [],
   "source": [
    "import cantera as ct\n"
   ]
  },
  {
   "cell_type": "code",
   "execution_count": 9,
   "metadata": {},
   "outputs": [
    {
     "name": "stdout",
     "output_type": "stream",
     "text": [
      "2 OH (+M) <=> H2O2 (+M) 24867475719.271603\n",
      "2 HO2 <=> H2O2 + O2 727476205323.7677\n",
      "2 HO2 <=> O2 + 2 OH 313347891302.0313\n",
      "HE + OH* <=> HE + OH 67041442406.91724\n",
      "H2O2 + OH <=> H2O + HO2 4935884190886.002\n",
      "HO2 + OH <=> H2O + O2 18031965964542.598\n",
      "2 OH <=> H2O + O 1520699144279.5425\n"
     ]
    }
   ],
   "source": [
    "gas1 = ct.Solution('~/Dropbox/Columbia/MSI/data/klip_optimization_not_weighted_hong_tails/FFCM1_custom_extra_reaction_updated.cti')\n",
    "\n",
    "gas1.TPX = 1182,1.672*101325,{'H2O2':0.002046 ,'H2O':0.001113,'O2':0.000556,'Ar':0.996285}\n",
    "print(gas1.reaction_equations()[0], gas1.forward_rate_constants[0]*1000)\n",
    "print(gas1.reaction_equations()[2], gas1.forward_rate_constants[2]*1000)\n",
    "print(gas1.reaction_equations()[3], gas1.forward_rate_constants[3]*1000)\n",
    "print(gas1.reaction_equations()[283], gas1.forward_rate_constants[283]*1000)\n",
    "\n",
    "print(gas1.reaction_equations()[284], gas1.forward_rate_constants[284]*1000)\n",
    "print(gas1.reaction_equations()[285], gas1.forward_rate_constants[285]*1000)\n",
    "print(gas1.reaction_equations()[286], gas1.forward_rate_constants[286]*1000)"
   ]
  },
  {
   "cell_type": "code",
   "execution_count": 8,
   "metadata": {},
   "outputs": [
    {
     "name": "stdout",
     "output_type": "stream",
     "text": [
      "2 OH (+M) <=> H2O2 (+M) 19832300046.543705\n",
      "2 HO2 <=> H2O2 + O2 863643827140.3533\n",
      "2 HO2 <=> O2 + 2 OH 367697183267.6138\n",
      "HE + OH* <=> HE + OH 69847029285.43202\n",
      "H2O2 + OH <=> H2O + HO2 5917630773605.197\n",
      "HO2 + OH <=> H2O + O2 18236369573049.9\n",
      "2 OH <=> H2O + O 1734217478483.0261\n"
     ]
    }
   ],
   "source": [
    "gas1 = ct.Solution('/Users/carlylagrotta/Dropbox/Columbia/MSI/data/klip_optimization_not_weighted_hong_tails/FFCM1_custom_extra_reaction_updated.cti')\n",
    "gas1.reaction_equations()[285]\n",
    "gas1.TPX =1283,101325*1.635,{'H2O2':0.002046 ,'H2O':0.001113,\n",
    "                                     'O2':0.000556,'Ar':0.995212}\n",
    "print(gas1.reaction_equations()[0], gas1.forward_rate_constants[0]*1000)\n",
    "print(gas1.reaction_equations()[2], gas1.forward_rate_constants[2]*1000)\n",
    "print(gas1.reaction_equations()[3], gas1.forward_rate_constants[3]*1000)\n",
    "print(gas1.reaction_equations()[283], gas1.forward_rate_constants[283]*1000)\n",
    "\n",
    "print(gas1.reaction_equations()[284], gas1.forward_rate_constants[284]*1000)\n",
    "print(gas1.reaction_equations()[285], gas1.forward_rate_constants[285]*1000)\n",
    "print(gas1.reaction_equations()[286], gas1.forward_rate_constants[286]*1000)"
   ]
  },
  {
   "cell_type": "code",
   "execution_count": null,
   "metadata": {},
   "outputs": [],
   "source": []
  }
 ],
 "metadata": {
  "kernelspec": {
   "display_name": "Python 3",
   "language": "python",
   "name": "python3"
  },
  "language_info": {
   "codemirror_mode": {
    "name": "ipython",
    "version": 3
   },
   "file_extension": ".py",
   "mimetype": "text/x-python",
   "name": "python",
   "nbconvert_exporter": "python",
   "pygments_lexer": "ipython3",
   "version": "3.6.4"
  }
 },
 "nbformat": 4,
 "nbformat_minor": 2
}
