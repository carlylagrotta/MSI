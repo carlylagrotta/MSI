{
 "cells": [
  {
   "cell_type": "code",
   "execution_count": 55,
   "metadata": {},
   "outputs": [
    {
     "name": "stdout",
     "output_type": "stream",
     "text": [
      "H2O2 + OH <=> H2O + HO2\n",
      "H2O2 + OH <=> H2O + HO2\n"
     ]
    }
   ],
   "source": [
    "import cantera as ct\n",
    "import numpy as np\n",
    "gas = ct.Solution('Hong_new_original_reactions.cti')\n",
    "print(gas.reaction_equations()[6])\n",
    "print(gas.reaction_equations()[7])\n",
    "#OH + H2O2 <=> HO2 + H2O"
   ]
  },
  {
   "cell_type": "code",
   "execution_count": 56,
   "metadata": {},
   "outputs": [],
   "source": [
    "k = []\n",
    "for Temp in np.arange(200,2400):\n",
    "    gas.TPX = Temp, 101325,{'Ar':1}\n",
    "    k1 = gas.forward_rate_constants[6]*1000\n",
    "    k2 = gas.forward_rate_constants[7]*1000\n",
    "    k.append(k1+k2)\n",
    "xdata = np.arange(200,2400)\n",
    "ydata = np.log(np.array(k))"
   ]
  },
  {
   "cell_type": "code",
   "execution_count": 57,
   "metadata": {},
   "outputs": [
    {
     "name": "stdout",
     "output_type": "stream",
     "text": [
      "[ 9.26607389e+04  2.43094373e+00 -1.33465323e+03]\n"
     ]
    },
    {
     "data": {
      "text/plain": [
       "[<matplotlib.lines.Line2D at 0x1519579c88>]"
      ]
     },
     "execution_count": 57,
     "metadata": {},
     "output_type": "execute_result"
    },
    {
     "data": {
      "image/png": "[encoded data removed]",
      "text/plain": [
       "<matplotlib.figure.Figure at 0x1519579278>"
      ]
     },
     "metadata": {},
     "output_type": "display_data"
    }
   ],
   "source": [
    "\n",
    "#fitting sigmas \n",
    "import matplotlib.pyplot as plt\n",
    "from scipy.optimize import curve_fit \n",
    "def func(x, A,n,Ea):\n",
    "    return np.log(A)+np.log(x)*n + (-Ea/(1.987*x))\n",
    "plt.scatter(xdata, ydata,label='data')\n",
    "popt, pcov = curve_fit(func, xdata, ydata,maxfev=1000000)\n",
    "print(popt)\n",
    "test_array = []\n",
    "for T in xdata:\n",
    "    test_array.append(np.log(popt[0]*T**popt[1]*np.exp(-popt[2]/(1.987*T))))\n",
    "plt.plot(xdata,test_array,'g',)    \n"
   ]
  },
  {
   "cell_type": "code",
   "execution_count": null,
   "metadata": {},
   "outputs": [],
   "source": [
    "[ 9.26607389e+04  2.43094373e+00 -1.33465323e+03]"
   ]
  },
  {
   "cell_type": "code",
   "execution_count": 59,
   "metadata": {},
   "outputs": [
    {
     "name": "stdout",
     "output_type": "stream",
     "text": [
      "2 HO2 <=> H2O2 + O2\n",
      "2 HO2 <=> H2O2 + O2\n"
     ]
    }
   ],
   "source": [
    "import cantera as ct\n",
    "import numpy as np\n",
    "gas = ct.Solution('Hong_new_original_reactions.cti')\n",
    "print(gas.reaction_equations()[9])\n",
    "print(gas.reaction_equations()[10])\n"
   ]
  },
  {
   "cell_type": "code",
   "execution_count": 60,
   "metadata": {},
   "outputs": [],
   "source": [
    "k = []\n",
    "for Temp in np.arange(200,2400):\n",
    "    gas.TPX = Temp, 101325,{'Ar':1}\n",
    "    k1 = gas.forward_rate_constants[9]*1000\n",
    "    k2 = gas.forward_rate_constants[10]*1000\n",
    "    k.append(k1+k2)\n",
    "xdata = np.arange(200,2400)\n",
    "ydata = np.log(np.array(k))"
   ]
  },
  {
   "cell_type": "code",
   "execution_count": 45,
   "metadata": {},
   "outputs": [],
   "source": [
    "gas2 = ct.Solution('Hong_new.cti')\n",
    "k_new = []\n",
    "for Temp in np.arange(200,2400):\n",
    "    gas2.TPX = Temp, 101325,{'Ar':1}\n",
    "    k1 = gas2.forward_rate_constants[8]*1000\n",
    "    k_new.append(k1)"
   ]
  },
  {
   "cell_type": "code",
   "execution_count": 61,
   "metadata": {},
   "outputs": [
    {
     "name": "stdout",
     "output_type": "stream",
     "text": [
      "[ 2.33005575e-07  5.84497850e+00 -5.91336719e+03]\n"
     ]
    },
    {
     "name": "stderr",
     "output_type": "stream",
     "text": [
      "/anaconda3/lib/python3.6/site-packages/ipykernel_launcher.py:6: RuntimeWarning: invalid value encountered in log\n",
      "  \n"
     ]
    },
    {
     "data": {
      "text/plain": [
       "[<matplotlib.lines.Line2D at 0x1519442048>]"
      ]
     },
     "execution_count": 61,
     "metadata": {},
     "output_type": "execute_result"
    },
    {
     "data": {
      "image/png": "[encoded data removed]",
      "text/plain": [
       "<matplotlib.figure.Figure at 0x1519442438>"
      ]
     },
     "metadata": {},
     "output_type": "display_data"
    }
   ],
   "source": [
    "\n",
    "#fitting sigmas \n",
    "import matplotlib.pyplot as plt\n",
    "from scipy.optimize import curve_fit \n",
    "def func(x, A,n,Ea):\n",
    "    return np.log(A)+np.log(x)*n + (-Ea/(1.987*x))\n",
    "plt.scatter(xdata, ydata,label='data')\n",
    "popt, pcov = curve_fit(func, xdata, ydata,maxfev=1000000)\n",
    "print(popt)\n",
    "test_array = []\n",
    "for T in xdata:\n",
    "    test_array.append(np.log(popt[0]*T**popt[1]*np.exp(-popt[2]/(1.987*T))))\n",
    "plt.plot(xdata,test_array,'g',)    \n",
    "#plt.plot(xdata,np.log(np.array(k_new)),'r--')"
   ]
  },
  {
   "cell_type": "code",
   "execution_count": 50,
   "metadata": {},
   "outputs": [
    {
     "data": {
      "text/plain": [
       "['H + O2 <=> O + OH',\n",
       " 'H + O2 (+M) <=> HO2 (+M)',\n",
       " 'H + O2 (+AR) <=> HO2 (+AR)',\n",
       " 'H + O2 (+O2) <=> HO2 (+O2)',\n",
       " 'H + O2 (+H2O) <=> HO2 (+H2O)',\n",
       " 'H2O2 (+M) <=> 2 OH (+M)',\n",
       " 'H2O2 + OH <=> H2O + HO2',\n",
       " 'HO2 + OH <=> H2O + O2',\n",
       " '2 HO2 <=> H2O2 + O2',\n",
       " '2 HO2 <=> H2O2 + O2',\n",
       " 'H2O + M <=> H + OH + M',\n",
       " '2 H2O <=> H + H2O + OH',\n",
       " '2 OH <=> H2O + O',\n",
       " 'H2 + O <=> H + OH',\n",
       " 'H2 + O <=> H + OH',\n",
       " 'H2 + OH <=> H + H2O',\n",
       " 'H + HO2 <=> 2 OH',\n",
       " 'H + HO2 <=> H2O + O',\n",
       " 'H + HO2 <=> H2 + O2',\n",
       " 'HO2 + O <=> O2 + OH',\n",
       " 'H + H2O2 <=> H2 + HO2',\n",
       " 'H + H2O2 <=> H2O + OH',\n",
       " 'H2O2 + O <=> HO2 + OH',\n",
       " 'H2 + M <=> 2 H + M',\n",
       " '2 H2 <=> 2 H + H2',\n",
       " 'H2 + N2 <=> 2 H + N2',\n",
       " 'H2 + O2 <=> 2 H + O2',\n",
       " '2 O + M <=> O2 + M',\n",
       " 'AR + 2 O <=> AR + O2',\n",
       " 'H + O + M <=> OH + M']"
      ]
     },
     "execution_count": 50,
     "metadata": {},
     "output_type": "execute_result"
    }
   ],
   "source": [
    "gas2 = ct.Solution('Hong_new.cti')\n",
    "gas.reaction_equations()"
   ]
  },
  {
   "cell_type": "code",
   "execution_count": 89,
   "metadata": {},
   "outputs": [],
   "source": [
    "# fitting reaction \n",
    "A1 = 9.3e-9 * 6.02214076e23\n",
    "A2 = 1.13e-12 * 6.02214076e23\n",
    "Ea1 = 1.9873*3.5\n",
    "Ea2 = 1.987*84\n",
    "n1 = -1.04\n",
    "n2 = .303\n",
    "xdata = np.arange(200,2400,50)\n",
    "ydata = []\n",
    "for temp in np.arange(200,2400,50):\n",
    "    k1 = A1*(temp**n1)*np.exp(Ea1/(1.987*temp))\n",
    "    k2 = A2*(temp**n2)*np.exp(Ea2/(1.987*temp))\n",
    "\n",
    "    ydata.append(k1+k2)\n",
    "A1 = 9.3e-9 \n",
    "A2 = 1.13e-12 \n",
    "Ea1 = 3.5\n",
    "Ea2 = 84\n",
    "n1 = -1.04\n",
    "n2 = .303    \n",
    "ydata = []\n",
    "for temp in np.arange(200,2400,50):\n",
    "    k1 = (A1 * (T**n1)*np.exp(Ea1/temp))* 6.02214076e23\n",
    "    k2 = (A2 * (T**n2)*np.exp(Ea2/temp))* 6.02214076e23\n",
    "\n",
    "    ydata.append(k1+k2)\n",
    "    "
   ]
  },
  {
   "cell_type": "code",
   "execution_count": 93,
   "metadata": {},
   "outputs": [
    {
     "name": "stdout",
     "output_type": "stream",
     "text": [
      "[ 8.72171090e+12  2.51460688e-03 -1.43391811e+02]\n"
     ]
    },
    {
     "data": {
      "text/plain": [
       "[<matplotlib.lines.Line2D at 0x1519af41d0>]"
      ]
     },
     "execution_count": 93,
     "metadata": {},
     "output_type": "execute_result"
    },
    {
     "data": {
      "image/png": "[encoded data removed]",
      "text/plain": [
       "<matplotlib.figure.Figure at 0x1519b1bc88>"
      ]
     },
     "metadata": {},
     "output_type": "display_data"
    }
   ],
   "source": [
    "#fitting sigmas \n",
    "import matplotlib.pyplot as plt\n",
    "from scipy.optimize import curve_fit \n",
    "def func(x, A,n,Ea):\n",
    "    return np.log(A)+np.log(x)*n + (-Ea/(1.987*x))\n",
    "plt.scatter(xdata, np.log(ydata),label='data')\n",
    "popt, pcov = curve_fit(func, xdata, np.log(ydata),maxfev=1000000,p0=(1e-12,1,1000))\n",
    "print(popt)\n",
    "test_array = []\n",
    "for T in xdata:\n",
    "    test_array.append(np.log(popt[0]*T**popt[1]*np.exp(-popt[2]/(1.987*T))))\n",
    "plt.plot(xdata,test_array,'g',)  "
   ]
  },
  {
   "cell_type": "code",
   "execution_count": 98,
   "metadata": {},
   "outputs": [],
   "source": [
    "# fitting reaction \n",
    "A = 1.4e8 * 6.02214076e23\n",
    "Ea1 = -26322\n",
    "n = -4.57\n",
    "xdata = np.arange(200,2400,50)\n",
    "ydata = []\n",
    "for temp in np.arange(200,2400,50):\n",
    "    k1 = A1*(temp**n1)*np.exp(Ea1/(temp))\n",
    "\n",
    "    ydata.append(k1)\n",
    "\n"
   ]
  },
  {
   "cell_type": "code",
   "execution_count": 99,
   "metadata": {},
   "outputs": [
    {
     "name": "stdout",
     "output_type": "stream",
     "text": [
      "[ 9.3000000e-09 -1.0400000e+00  5.2301814e+04]\n"
     ]
    },
    {
     "name": "stderr",
     "output_type": "stream",
     "text": [
      "/anaconda3/lib/python3.6/site-packages/ipykernel_launcher.py:5: RuntimeWarning: invalid value encountered in log\n",
      "  \"\"\"\n"
     ]
    },
    {
     "data": {
      "text/plain": [
       "[<matplotlib.lines.Line2D at 0x1519fb7e48>]"
      ]
     },
     "execution_count": 99,
     "metadata": {},
     "output_type": "execute_result"
    },
    {
     "data": {
      "image/png": "[encoded data removed]",
      "text/plain": [
       "<matplotlib.figure.Figure at 0x1519fb71d0>"
      ]
     },
     "metadata": {},
     "output_type": "display_data"
    }
   ],
   "source": [
    "#fitting sigmas \n",
    "import matplotlib.pyplot as plt\n",
    "from scipy.optimize import curve_fit \n",
    "def func(x, A,n,Ea):\n",
    "    return np.log(A)+np.log(x)*n + (-Ea/(1.987*x))\n",
    "plt.scatter(xdata, np.log(ydata),label='data')\n",
    "popt, pcov = curve_fit(func, xdata, np.log(ydata),maxfev=1000000,p0=(1e12,1,1000))\n",
    "print(popt)\n",
    "test_array = []\n",
    "for T in xdata:\n",
    "    test_array.append(np.log(popt[0]*T**popt[1]*np.exp(-popt[2]/(1.987*T))))\n",
    "plt.plot(xdata,test_array,'g',)  "
   ]
  },
  {
   "cell_type": "code",
   "execution_count": null,
   "metadata": {},
   "outputs": [],
   "source": []
  }
 ],
 "metadata": {
  "kernelspec": {
   "display_name": "Python 3",
   "language": "python",
   "name": "python3"
  },
  "language_info": {
   "codemirror_mode": {
    "name": "ipython",
    "version": 3
   },
   "file_extension": ".py",
   "mimetype": "text/x-python",
   "name": "python",
   "nbconvert_exporter": "python",
   "pygments_lexer": "ipython3",
   "version": "3.6.4"
  }
 },
 "nbformat": 4,
 "nbformat_minor": 2
}
