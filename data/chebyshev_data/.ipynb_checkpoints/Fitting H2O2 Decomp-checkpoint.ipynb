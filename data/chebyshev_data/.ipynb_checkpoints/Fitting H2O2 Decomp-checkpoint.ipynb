{
 "cells": [
  {
   "cell_type": "code",
   "execution_count": 11,
   "metadata": {},
   "outputs": [],
   "source": [
    "import cantera as ct\n",
    "import numpy as np\n",
    "import matplotlib.pyplot as plt"
   ]
  },
  {
   "cell_type": "code",
   "execution_count": 156,
   "metadata": {},
   "outputs": [],
   "source": [
    "def first_cheby_poly(x, n):\n",
    "    '''Generate n-th order Chebyshev ploynominals of first kind.'''\n",
    "    if n == 0: return 1\n",
    "    elif n == 1: return x\n",
    "    result = 2. * x * first_cheby_poly(x, 1) - first_cheby_poly(x, 0)\n",
    "    m = 0\n",
    "    while n - m > 2:\n",
    "        result = 2. * x * result - first_cheby_poly(x, m+1)\n",
    "        m += 1\n",
    "    return result\n",
    "    \n",
    "def reduced_T(T, T_min, T_max):\n",
    "    '''Calculate the reduced temperature.'''\n",
    "    T=float(T)\n",
    "    T_min=float(T_min)\n",
    "    T_max = float(T_max)\n",
    "    T_tilde = 2.0 * T ** (-1) - T_min ** (-1) - T_max ** (-1)\n",
    "    T_tilde /= (T_max ** (-1) - T_min ** (-1))\n",
    "    return T_tilde\n",
    "        \n",
    "def reduced_P(P, P_min, P_max):\n",
    "    '''Calculate the reduced pressure.'''\n",
    "    P_tilde = 2.0 * np.log(P) - np.log(P_min) - np.log(P_max)\n",
    "    P_tilde /= (np.log(P_max) - np.log(P_min))\n",
    "    return P_tilde\n",
    "        \n",
    "def fit_cheby_poly(n_T, n_P, k, T_ls, P_ls):\n",
    "    '''Fit the Chebyshev polynominals to rate constants.\n",
    "          Input rate constants vector k should be arranged based on pressure.'''\n",
    "    cheb_mat = np.zeros((len(k), n_T * n_P))\n",
    "    for n, P in enumerate(P_ls):       # !! assume that at each presssure, we have the same temperateure range\n",
    "        P_min = P_ls[0]\n",
    "        P_max = P_ls[-1]\n",
    "        for m, T in enumerate(T_ls):\n",
    "            T_min = T_ls[0]\n",
    "            T_max = T_ls[-1]\n",
    "            for i in range(n_P):\n",
    "                P_tilde = reduced_P(P, P_min, P_max)\n",
    "                P_cheb = first_cheby_poly(P_tilde, i)\n",
    "                for j in range(n_T):\n",
    "                    T_tilde = reduced_T(T, T_min, T_max)\n",
    "                    T_cheb = first_cheby_poly(T_tilde, j)\n",
    "                    cheb_mat[n*len(T_ls)+m, i*n_T+j] = P_cheb * T_cheb\n",
    "                        \n",
    "    coef = np.linalg.pinv(cheb_mat)\n",
    "    coef = np.dot(coef, k)\n",
    "    return coef"
   ]
  },
  {
   "cell_type": "code",
   "execution_count": 157,
   "metadata": {},
   "outputs": [
    {
     "name": "stdout",
     "output_type": "stream",
     "text": [
      "\n",
      "\n",
      "**** WARNING ****\n",
      "For species HOCHO, discontinuity in h/RT detected at Tmid = 1000\n",
      "\tValue computed using low-temperature polynomial:  -40.3604\n",
      "\tValue computed using high-temperature polynomial: -38.1679\n"
     ]
    }
   ],
   "source": [
    "gas = ct.Solution('glarborg_custom.cti')\n",
    "k = [[],[],[]]\n",
    "temperature=[[],[],[]]\n",
    "for i,pressure in enumerate([.1,5,10]):\n",
    "    for temp in np.arange(200,2401): \n",
    "        gas.TPX = temp,pressure*101325,{'Ar':1}\n",
    "        k[i].append(gas.forward_rate_constants[27]*1000)\n",
    "        temperature[i].append(temp)"
   ]
  },
  {
   "cell_type": "code",
   "execution_count": 158,
   "metadata": {},
   "outputs": [
    {
     "data": {
      "text/plain": [
       "[<matplotlib.lines.Line2D at 0x7fd29e967208>]"
      ]
     },
     "execution_count": 158,
     "metadata": {},
     "output_type": "execute_result"
    },
    {
     "data": {
      "image/png": "[encoded data removed]",
      "text/plain": [
       "<Figure size 432x288 with 1 Axes>"
      ]
     },
     "metadata": {
      "needs_background": "light"
     },
     "output_type": "display_data"
    }
   ],
   "source": [
    "plt.figure()\n",
    "plt.semilogy(temperature[0],k[0])\n",
    "plt.semilogy(temperature[1],k[1])\n",
    "plt.semilogy(temperature[2],k[2])\n"
   ]
  },
  {
   "cell_type": "code",
   "execution_count": 159,
   "metadata": {},
   "outputs": [
    {
     "data": {
      "text/plain": [
       "2201"
      ]
     },
     "execution_count": 159,
     "metadata": {},
     "output_type": "execute_result"
    }
   ],
   "source": [
    "k_combined=np.log10(np.array(k[0]+k[1]+k[2]))\n",
    "temp_combined=temperature[0]\n",
    "pressure_combined = [.1,5,10]\n",
    "len(k_combined)\n",
    "len(temp_combined)"
   ]
  },
  {
   "cell_type": "code",
   "execution_count": 174,
   "metadata": {},
   "outputs": [],
   "source": [
    "coef = fit_cheby_poly(15,3,k_combined,temp_combined,pressure_combined)"
   ]
  },
  {
   "cell_type": "code",
   "execution_count": 175,
   "metadata": {},
   "outputs": [
    {
     "data": {
      "text/plain": [
       "array([[ 1.09531233e+01, -1.28976271e-01, -2.42903801e-02],\n",
       "       [ 5.16633847e-01,  1.62640103e-01,  2.48811078e-02],\n",
       "       [ 2.26907863e-01, -2.46508973e-02, -2.47824391e-03],\n",
       "       [ 8.34972190e-02, -9.07100062e-03, -9.11940519e-04],\n",
       "       [ 3.45675437e-02, -3.75536113e-03, -3.77540045e-04],\n",
       "       [ 1.52619383e-02, -1.65803189e-03, -1.66687946e-04],\n",
       "       [ 7.02186978e-03, -7.62844392e-04, -7.66915073e-05],\n",
       "       [ 3.31873614e-03, -3.60542039e-04, -3.62465959e-05],\n",
       "       [ 1.60569928e-03, -1.74440530e-04, -1.75371378e-05],\n",
       "       [ 7.82780357e-04, -8.50399714e-05, -8.54937607e-06],\n",
       "       [ 3.93662776e-04, -4.27668769e-05, -4.29950891e-06],\n",
       "       [ 1.89689965e-04, -2.06076060e-05, -2.07175720e-06],\n",
       "       [ 1.04655540e-04, -1.13696059e-05, -1.14302762e-06],\n",
       "       [ 3.81952098e-05, -4.14946481e-06, -4.17160710e-07],\n",
       "       [ 4.23127325e-05, -4.59678570e-06, -4.62131503e-07]])"
      ]
     },
     "execution_count": 175,
     "metadata": {},
     "output_type": "execute_result"
    }
   ],
   "source": [
    "coef.reshape(3,15).T\n"
   ]
  },
  {
   "cell_type": "code",
   "execution_count": 177,
   "metadata": {},
   "outputs": [
    {
     "name": "stdout",
     "output_type": "stream",
     "text": [
      "\n",
      "\n",
      "**** WARNING ****\n",
      "For species HOCHO, discontinuity in h/RT detected at Tmid = 1000\n",
      "\tValue computed using low-temperature polynomial:  -40.3604\n",
      "\tValue computed using high-temperature polynomial: -38.1679\n"
     ]
    },
    {
     "data": {
      "text/plain": [
       "[<matplotlib.lines.Line2D at 0x7fd29c61d128>]"
      ]
     },
     "execution_count": 177,
     "metadata": {},
     "output_type": "execute_result"
    },
    {
     "data": {
      "image/png": "[encoded data removed]",
      "text/plain": [
       "<Figure size 432x288 with 1 Axes>"
      ]
     },
     "metadata": {
      "needs_background": "light"
     },
     "output_type": "display_data"
    }
   ],
   "source": [
    "gas = ct.Solution('cheby_pressure_test.cti')\n",
    "k2 = [[],[],[]]\n",
    "temperature2=[[],[],[]]\n",
    "for i,pressure in enumerate([.1,5,9]):\n",
    "    for temp in np.arange(200,2400): \n",
    "        gas.TPX = temp,pressure*101325,{'Ar':1}\n",
    "        k2[i].append(gas.forward_rate_constants[0]*1000)\n",
    "        temperature2[i].append(temp)\n",
    "#plt.figure()\n",
    "plt.semilogy(temperature2[0],k2[0])\n",
    "plt.semilogy(temperature2[1],k2[1])\n",
    "plt.semilogy(temperature2[2],k2[2])"
   ]
  },
  {
   "cell_type": "code",
   "execution_count": 178,
   "metadata": {},
   "outputs": [
    {
     "data": {
      "text/plain": [
       "[<matplotlib.lines.Line2D at 0x7fd29c531588>]"
      ]
     },
     "execution_count": 178,
     "metadata": {},
     "output_type": "execute_result"
    },
    {
     "data": {
      "image/png": "[encoded data removed]",
      "text/plain": [
       "<Figure size 432x288 with 1 Axes>"
      ]
     },
     "metadata": {
      "needs_background": "light"
     },
     "output_type": "display_data"
    }
   ],
   "source": [
    "plt.semilogy(temperature[0],k[0])\n",
    "#plt.semilogy(temperature[1],k[1])\n",
    "#plt.semilogy(temperature[2],k[2])\n",
    "\n",
    "plt.semilogy(temperature2[0],k2[0],'--')\n",
    "#plt.semilogy(temperature2[1],k2[1],'--')\n",
    "#plt.semilogy(temperature2[2],k2[2],'--')"
   ]
  },
  {
   "cell_type": "code",
   "execution_count": null,
   "metadata": {},
   "outputs": [],
   "source": []
  }
 ],
 "metadata": {
  "kernelspec": {
   "display_name": "Python 3",
   "language": "python",
   "name": "python3"
  },
  "language_info": {
   "codemirror_mode": {
    "name": "ipython",
    "version": 3
   },
   "file_extension": ".py",
   "mimetype": "text/x-python",
   "name": "python",
   "nbconvert_exporter": "python",
   "pygments_lexer": "ipython3",
   "version": "3.7.3"
  }
 },
 "nbformat": 4,
 "nbformat_minor": 2
}
