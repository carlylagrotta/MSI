{
 "cells": [
  {
   "cell_type": "code",
   "execution_count": 11,
   "metadata": {},
   "outputs": [],
   "source": [
    "import cantera as ct\n",
    "import numpy as np\n",
    "import matplotlib.pyplot as plt"
   ]
  },
  {
   "cell_type": "code",
   "execution_count": 46,
   "metadata": {},
   "outputs": [],
   "source": [
    "def first_cheby_poly(x, n):\n",
    "    '''Generate n-th order Chebyshev ploynominals of first kind.'''\n",
    "    if n == 0: return 1\n",
    "    elif n == 1: return x\n",
    "    result = 2. * x * first_cheby_poly(x, 1) - first_cheby_poly(x, 0)\n",
    "    m = 0\n",
    "    while n - m > 2:\n",
    "        result = 2. * x * result - first_cheby_poly(x, m+1)\n",
    "        m += 1\n",
    "    return result\n",
    "    \n",
    "def reduced_T(T, T_min, T_max):\n",
    "    '''Calculate the reduced temperature.'''\n",
    "    print(T)\n",
    "    T_tilde = 2.0 * T ** (-1) - T_min ** (-1) - T_max ** (-1)\n",
    "    T_tilde /= (T_max ** (-1) - T_min ** (-1))\n",
    "    return T_tilde\n",
    "        \n",
    "def reduced_P(P, P_min, P_max):\n",
    "    '''Calculate the reduced pressure.'''\n",
    "    P_tilde = 2.0 * np.log(P) - np.log(P_min) - np.log(P_max)\n",
    "    P_tilde /= (np.log(P_max) - np.log(P_min))\n",
    "    return P_tilde\n",
    "        \n",
    "def fit_cheby_poly(n_T, n_P, k, T_ls, P_ls):\n",
    "    '''Fit the Chebyshev polynominals to rate constants.\n",
    "          Input rate constants vector k should be arranged based on pressure.'''\n",
    "    cheb_mat = np.zeros((len(k), n_T * n_P))\n",
    "    for n, P in enumerate(P_ls):       # !! assume that at each presssure, we have the same temperateure range\n",
    "        P_min = P_ls[0]\n",
    "        P_max = P_ls[-1]\n",
    "        for m, T in enumerate(T_ls):\n",
    "            T_min = T_ls[0]\n",
    "            T_max = T_ls[-1]\n",
    "            for i in range(n_P):\n",
    "                P_tilde = reduced_P(P, P_min, P_max)\n",
    "                P_cheb = first_cheby_poly(P_tilde, i+1)\n",
    "                for j in range(n_T):\n",
    "                    T_tilde = reduced_T(T, T_min, T_max)\n",
    "                    T_cheb = first_cheby_poly(T_tilde, j+1)\n",
    "                    cheb_mat[n*len(T_ls)+m, i*n_T+j] = P_cheb * T_cheb\n",
    "                        \n",
    "    coef = np.linalg.pinv(cheb_mat)\n",
    "    coef = np.dot(coef, k)\n",
    "    return coef"
   ]
  },
  {
   "cell_type": "code",
   "execution_count": 47,
   "metadata": {},
   "outputs": [
    {
     "name": "stdout",
     "output_type": "stream",
     "text": [
      "\n",
      "\n",
      "**** WARNING ****\n",
      "For species HOCHO, discontinuity in h/RT detected at Tmid = 1000\n",
      "\tValue computed using low-temperature polynomial:  -40.3604\n",
      "\tValue computed using high-temperature polynomial: -38.1679\n"
     ]
    }
   ],
   "source": [
    "gas = ct.Solution('glarborg_custom.cti')\n",
    "k = [[],[],[]]\n",
    "temperature=[[],[],[]]\n",
    "for i,pressure in enumerate([1,10,100]):\n",
    "    for temp in np.arange(200,2400): \n",
    "        gas.TPX = temp,pressure*101325,{'Ar':1}\n",
    "        k[i].append(gas.forward_rate_constants[27])\n",
    "        temperature[i].append(temp)"
   ]
  },
  {
   "cell_type": "code",
   "execution_count": 48,
   "metadata": {},
   "outputs": [
    {
     "data": {
      "text/plain": [
       "[<matplotlib.lines.Line2D at 0x7fd29f655da0>]"
      ]
     },
     "execution_count": 48,
     "metadata": {},
     "output_type": "execute_result"
    },
    {
     "data": {
      "image/png": "[encoded data removed]",
      "text/plain": [
       "<Figure size 432x288 with 1 Axes>"
      ]
     },
     "metadata": {
      "needs_background": "light"
     },
     "output_type": "display_data"
    }
   ],
   "source": [
    "plt.figure()\n",
    "plt.semilogy(temperature[0],k[0])\n",
    "plt.semilogy(temperature[1],k[1])\n",
    "plt.semilogy(temperature[2],k[2])\n",
    "\n",
    "\n"
   ]
  },
  {
   "cell_type": "code",
   "execution_count": 49,
   "metadata": {},
   "outputs": [],
   "source": [
    "k_combined=np.log10(np.array(k[0]+k[1]+k[2]))\n",
    "temp_combined=temperature[0]+temperature[1]+temperature[2]\n",
    "pressure_combined = [101325,1013250,10132500]"
   ]
  },
  {
   "cell_type": "code",
   "execution_count": 50,
   "metadata": {},
   "outputs": [
    {
     "ename": "ValueError",
     "evalue": "Integers to negative integer powers are not allowed.",
     "output_type": "error",
     "traceback": [
      "\u001b[0;31m---------------------------------------------------------------------------\u001b[0m",
      "\u001b[0;31mValueError\u001b[0m                                Traceback (most recent call last)",
      "\u001b[0;32m<ipython-input-50-0bf021e7ec19>\u001b[0m in \u001b[0;36m<module>\u001b[0;34m\u001b[0m\n\u001b[0;32m----> 1\u001b[0;31m \u001b[0mcoef\u001b[0m \u001b[0;34m=\u001b[0m \u001b[0mfit_cheby_poly\u001b[0m\u001b[0;34m(\u001b[0m\u001b[0;36m15\u001b[0m\u001b[0;34m,\u001b[0m\u001b[0;36m3\u001b[0m\u001b[0;34m,\u001b[0m\u001b[0mk_combined\u001b[0m\u001b[0;34m,\u001b[0m\u001b[0mtemp_combined\u001b[0m\u001b[0;34m,\u001b[0m\u001b[0mpressure_combined\u001b[0m\u001b[0;34m)\u001b[0m\u001b[0;34m\u001b[0m\u001b[0;34m\u001b[0m\u001b[0m\n\u001b[0m",
      "\u001b[0;32m<ipython-input-46-684e3eaee590>\u001b[0m in \u001b[0;36mfit_cheby_poly\u001b[0;34m(n_T, n_P, k, T_ls, P_ls)\u001b[0m\n\u001b[1;32m     36\u001b[0m                 \u001b[0mP_cheb\u001b[0m \u001b[0;34m=\u001b[0m \u001b[0mfirst_cheby_poly\u001b[0m\u001b[0;34m(\u001b[0m\u001b[0mP_tilde\u001b[0m\u001b[0;34m,\u001b[0m \u001b[0mi\u001b[0m\u001b[0;34m+\u001b[0m\u001b[0;36m1\u001b[0m\u001b[0;34m)\u001b[0m\u001b[0;34m\u001b[0m\u001b[0;34m\u001b[0m\u001b[0m\n\u001b[1;32m     37\u001b[0m                 \u001b[0;32mfor\u001b[0m \u001b[0mj\u001b[0m \u001b[0;32min\u001b[0m \u001b[0mrange\u001b[0m\u001b[0;34m(\u001b[0m\u001b[0mn_T\u001b[0m\u001b[0;34m)\u001b[0m\u001b[0;34m:\u001b[0m\u001b[0;34m\u001b[0m\u001b[0;34m\u001b[0m\u001b[0m\n\u001b[0;32m---> 38\u001b[0;31m                     \u001b[0mT_tilde\u001b[0m \u001b[0;34m=\u001b[0m \u001b[0mreduced_T\u001b[0m\u001b[0;34m(\u001b[0m\u001b[0mT\u001b[0m\u001b[0;34m,\u001b[0m \u001b[0mT_min\u001b[0m\u001b[0;34m,\u001b[0m \u001b[0mT_max\u001b[0m\u001b[0;34m)\u001b[0m\u001b[0;34m\u001b[0m\u001b[0;34m\u001b[0m\u001b[0m\n\u001b[0m\u001b[1;32m     39\u001b[0m                     \u001b[0mT_cheb\u001b[0m \u001b[0;34m=\u001b[0m \u001b[0mfirst_cheby_poly\u001b[0m\u001b[0;34m(\u001b[0m\u001b[0mT_tilde\u001b[0m\u001b[0;34m,\u001b[0m \u001b[0mj\u001b[0m\u001b[0;34m+\u001b[0m\u001b[0;36m1\u001b[0m\u001b[0;34m)\u001b[0m\u001b[0;34m\u001b[0m\u001b[0;34m\u001b[0m\u001b[0m\n\u001b[1;32m     40\u001b[0m                     \u001b[0mcheb_mat\u001b[0m\u001b[0;34m[\u001b[0m\u001b[0mn\u001b[0m\u001b[0;34m*\u001b[0m\u001b[0mlen\u001b[0m\u001b[0;34m(\u001b[0m\u001b[0mT_ls\u001b[0m\u001b[0;34m)\u001b[0m\u001b[0;34m+\u001b[0m\u001b[0mm\u001b[0m\u001b[0;34m,\u001b[0m \u001b[0mi\u001b[0m\u001b[0;34m*\u001b[0m\u001b[0mn_T\u001b[0m\u001b[0;34m+\u001b[0m\u001b[0mj\u001b[0m\u001b[0;34m]\u001b[0m \u001b[0;34m=\u001b[0m \u001b[0mP_cheb\u001b[0m \u001b[0;34m*\u001b[0m \u001b[0mT_cheb\u001b[0m\u001b[0;34m\u001b[0m\u001b[0;34m\u001b[0m\u001b[0m\n",
      "\u001b[0;32m<ipython-input-46-684e3eaee590>\u001b[0m in \u001b[0;36mreduced_T\u001b[0;34m(T, T_min, T_max)\u001b[0m\n\u001b[1;32m     12\u001b[0m \u001b[0;32mdef\u001b[0m \u001b[0mreduced_T\u001b[0m\u001b[0;34m(\u001b[0m\u001b[0mT\u001b[0m\u001b[0;34m,\u001b[0m \u001b[0mT_min\u001b[0m\u001b[0;34m,\u001b[0m \u001b[0mT_max\u001b[0m\u001b[0;34m)\u001b[0m\u001b[0;34m:\u001b[0m\u001b[0;34m\u001b[0m\u001b[0;34m\u001b[0m\u001b[0m\n\u001b[1;32m     13\u001b[0m     \u001b[0;34m'''Calculate the reduced temperature.'''\u001b[0m\u001b[0;34m\u001b[0m\u001b[0;34m\u001b[0m\u001b[0m\n\u001b[0;32m---> 14\u001b[0;31m     \u001b[0mT_tilde\u001b[0m \u001b[0;34m=\u001b[0m \u001b[0;34m(\u001b[0m\u001b[0;36m2.0\u001b[0m \u001b[0;34m*\u001b[0m \u001b[0mT\u001b[0m\u001b[0;34m)\u001b[0m \u001b[0;34m**\u001b[0m \u001b[0;34m(\u001b[0m\u001b[0;34m-\u001b[0m\u001b[0;36m1\u001b[0m\u001b[0;34m)\u001b[0m \u001b[0;34m-\u001b[0m \u001b[0;34m(\u001b[0m\u001b[0;34m(\u001b[0m\u001b[0mT_min\u001b[0m\u001b[0;34m)\u001b[0m \u001b[0;34m**\u001b[0m \u001b[0;34m(\u001b[0m\u001b[0;34m-\u001b[0m\u001b[0;36m1\u001b[0m\u001b[0;34m)\u001b[0m\u001b[0;34m)\u001b[0m \u001b[0;34m-\u001b[0m \u001b[0;34m(\u001b[0m\u001b[0mT_max\u001b[0m \u001b[0;34m**\u001b[0m \u001b[0;34m(\u001b[0m\u001b[0;34m-\u001b[0m\u001b[0;36m1\u001b[0m\u001b[0;34m)\u001b[0m\u001b[0;34m)\u001b[0m\u001b[0;34m\u001b[0m\u001b[0;34m\u001b[0m\u001b[0m\n\u001b[0m\u001b[1;32m     15\u001b[0m     \u001b[0mT_tilde\u001b[0m \u001b[0;34m/=\u001b[0m \u001b[0;34m(\u001b[0m\u001b[0mT_max\u001b[0m \u001b[0;34m**\u001b[0m \u001b[0;34m(\u001b[0m\u001b[0;34m-\u001b[0m\u001b[0;36m1\u001b[0m\u001b[0;34m)\u001b[0m \u001b[0;34m-\u001b[0m \u001b[0mT_min\u001b[0m \u001b[0;34m**\u001b[0m \u001b[0;34m(\u001b[0m\u001b[0;34m-\u001b[0m\u001b[0;36m1\u001b[0m\u001b[0;34m)\u001b[0m\u001b[0;34m)\u001b[0m\u001b[0;34m\u001b[0m\u001b[0;34m\u001b[0m\u001b[0m\n\u001b[1;32m     16\u001b[0m     \u001b[0;32mreturn\u001b[0m \u001b[0mT_tilde\u001b[0m\u001b[0;34m\u001b[0m\u001b[0;34m\u001b[0m\u001b[0m\n",
      "\u001b[0;31mValueError\u001b[0m: Integers to negative integer powers are not allowed."
     ]
    }
   ],
   "source": [
    "coef = fit_cheby_poly(15,3,k_combined,temp_combined,pressure_combined)"
   ]
  },
  {
   "cell_type": "code",
   "execution_count": 51,
   "metadata": {},
   "outputs": [
    {
     "data": {
      "text/plain": [
       "0.015625"
      ]
     },
     "execution_count": 51,
     "metadata": {},
     "output_type": "execute_result"
    }
   ],
   "source": []
  },
  {
   "cell_type": "code",
   "execution_count": null,
   "metadata": {},
   "outputs": [],
   "source": []
  }
 ],
 "metadata": {
  "kernelspec": {
   "display_name": "Python 3",
   "language": "python",
   "name": "python3"
  },
  "language_info": {
   "codemirror_mode": {
    "name": "ipython",
    "version": 3
   },
   "file_extension": ".py",
   "mimetype": "text/x-python",
   "name": "python",
   "nbconvert_exporter": "python",
   "pygments_lexer": "ipython3",
   "version": "3.7.3"
  }
 },
 "nbformat": 4,
 "nbformat_minor": 2
}
