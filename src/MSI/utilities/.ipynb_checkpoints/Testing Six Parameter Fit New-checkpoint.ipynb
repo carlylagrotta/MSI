{
 "cells": [
  {
   "cell_type": "code",
   "execution_count": 61,
   "metadata": {},
   "outputs": [],
   "source": [
    "import numpy as np"
   ]
  },
  {
   "cell_type": "code",
   "execution_count": 62,
   "metadata": {},
   "outputs": [],
   "source": [
    "#UNITS\n",
    "#A = mol/cm^3 -s \n",
    "#n = none\n",
    "#Ea = kcal/k*mol\n",
    "#c = \n",
    "#d = \n",
    "#f = "
   ]
  },
  {
   "cell_type": "code",
   "execution_count": 63,
   "metadata": {},
   "outputs": [],
   "source": [
    "six_parameter_fit_sensitivities = {'H2O2 + OH <=> H2O + HO2':{'A':np.array([-13.37032086, 32.42060027,    19.23022032,    6.843287462 , 36.62853824   ,-0.220309785   ,-0.099366346,  -4.134352081]),\n",
    "                                                              'n':np.array([1.948532282,    -5.341557065,   -3.337497841,   -1.025292166,   -5.813524857,   0.011862923 ,0.061801326,   0.581628835]),\n",
    "                                                              'Ea':np.array([-0.463042822,  1.529151218,    0.808025472 ,0.359889935,   -0.021309254,   -0.098013004,   -0.102022118,   -0.097024727]),\n",
    "                                                              'c':np.array([0.00163576, -0.008645666,   -0.003111179,   -0.002541995,   0.014228149 ,0.001263134,   0.001236963,    -0.000390567]),\n",
    "                                                              'd':np.array([1.071992802,    -2.780550365,   -1.71391034 ,-0.274481751,  -4.491132406,   -0.054960894,   0.049553379,    0.270885383]),\n",
    "                                                              'f':np.array([-0.027060156,   0.056903076,    0.041102936 ,0.001361221,   0.144385439,    0.003136796 ,0.001374015,   -0.006089248])},\n",
    "                                    '2 HO2 <=> H2O2 + O2': {'A':np.array([-12.93733217,   24.39245077 ,17.73177606,   4.37803475, 33.44985889,    0.381601192 ,3.748890308]),\n",
    "                                                            'n':np.array([1.872602872,  -4.096806067,   -3.09439453 ,-0.63226683,   -5.125008418,   -0.061610462,   -0.677953862]),\n",
    "                                                            'Ea':np.array([-0.463903763 ,1.259537237,   0.826684258 ,0.257400116,   0.803882706 ,2.20E-05,  0.181336266]),\n",
    "                                                            'c':np.array([0.002069572,  -0.008314769,   -0.00424128 ,-0.002016113,  0.000134642 ,0.000122049    ,-0.001026567]),\n",
    "                                                            'd':np.array([0.981856324,  -1.847383095,   -1.493544053,   0.016222685,    -3.428753345,   -0.050708107,   -0.526284003]),\n",
    "                                                            'f':np.array([-0.022628436, 0.023558844,    0.031573523 ,-0.00732987,   0.096573278 ,0.001668073,   0.01033547])},\n",
    "                                    'HO2 + OH <=> H2O + O2': {'A':np.array([-4.795727446, 6.426354909 ,4.878258417,   2.472791017,    7.856296474,    1.328033302 ,-3.457932692,  -0.349839371,   2.331070924 ,2.403555921,   -0.165397001,   0.246540172 ,0.722946077]),\n",
    "                                                              'n':np.array([0.624241134,    -1.321082842,   -1.032242319,   -0.36532386,    -1.112545721,   -0.188622956,   0.421083939 ,0.038859478    ,-0.360855106,  -0.38989218,    0.029669899 ,-0.04371581,   -0.130487515]),\n",
    "                                                              'Ea':np.array([-0.259799111,  0.205620792 ,0.130799794,   0.137023666 ,0.379232542,   6.19E-02,   -0.198196699,   -0.023548432,   0.118069394 ,0.104383314    ,-0.003830947,  0.011566499 ,-0.073557828]),\n",
    "                                                              'c':np.array([0.00161312, -0.001906694,   -0.000863021,   -0.00105112 ,-0.002185605,  -0.000334461,   0.001817049 ,0.000170761,   -0.000859313,   -0.000653029,   -3.11E-06   ,-6.37E-05, 0.00047058]),\n",
    "                                                              'd':np.array([0.124499363,    -0.645652135,   -0.535188558,   0.052734001 ,-0.45181066,   -0.082250635,   0.034779283,    -0.011522821,   0.017057742,    -0.165960963,   0.057288687,    -0.012776017,   -0.192422381]),\n",
    "                                                              'f':np.array([0.002033109,    -0.011099716,   0.005351213 ,-0.007623667,  0.005327017 ,0.001259485,0.00245957,    0.000976725 ,-0.004879845,  0.001903886 ,-0.001838669   ,0.000252269,   0.004691829])},\n",
    "                                    '2 OH <=> H2O + O':      {'A': np.array([-5.40485067, 18.96061659 ,8.089301961,   6.953940096 ,-12.54280438,  -3.264972401,   2.106487623 ,-1.657943467,  1.614935    ,-1.536463599]),\n",
    "                                                              'n': np.array([0.803274875,   -3.167851673,   -1.607661056,   -1.041258197,   1.679914849,    0.466415264 ,-0.326136934,  0.355297684 ,-0.16618967,   0.253903734]),\n",
    "                                                              'Ea': np.array([0.147285831,  0.605814544,    -0.062253282,   0.372322712,    -1.884116555,   -0.281992263,   0.099465537 ,0.030650483,   0.176069015 ,-0.056967886]),\n",
    "                                                              'c': np.array([-0.003001658,  -0.001870536,   0.003820535 ,-0.002753277,  0.014224162,    0.00032969  ,-0.000627241,  -0.001081979,   -0.002009835,   0.000255318]),\n",
    "                                                              'd':np.array([0.446957978,    -1.467039994,   -1.298391635,   -0.402720385,   0.568106728 ,0.229877892,   -0.194395052,   1.033858025 ,0.527183366,   0.308743056]),\n",
    "                                                              'f':np.array([-0.010053913,   0.025128322,    0.035579811 ,0.00515753 ,-0.0083511,    -0.00512885,    0.003954,   -0.029711993    ,-0.01986861,   -0.007691647])},\n",
    "                                    'CH3 + HO2 <=> CH4 + O2': {'A':np.array([.007845,-.89278,-.94908]),\n",
    "                                                               'n':np.array([-0.00104,-.36888,.154462]),\n",
    "                                                               'Ea':np.array([.504278,-.44379,-0.03181]),\n",
    "                                                               'c':np.array([0,0,0]),\n",
    "                                                               'd':np.array([0,0,0]),\n",
    "                                                               'f':np.array([0,0,0])},\n",
    "                                    'CH3 + HO2 <=> CH3O + OH': {'A':np.array([1.319108,-.92151]),\n",
    "                                                                'n':np.array([-.04282,.150846]),\n",
    "                                                                'Ea':np.array([0.024285,-0.02956]),\n",
    "                                                                'c':np.array([0,0]),\n",
    "                                                                'd':np.array([0,0]),\n",
    "                                                                'f':np.array([0,0])}}\n",
    " \n",
    "\n",
    " \n",
    "  \n",
    "six_parameter_fit_nominal_parameters_dict = {'H2O2 + OH <=> H2O + HO2':{'A':4.64E-06,'n':5.605491008,'Ea':-5440.266692,'c':126875776.1,'d':0.000441194,'f':-5.35E-13},\n",
    "                                '2 HO2 <=> H2O2 + O2':{'A':1.30E+04,'n':1.997152351,'Ea':-3628.04407,'c':93390973.44,'d':-0.000732521,'f':8.20E-12} ,\n",
    "                                 'HO2 + OH <=> H2O + O2':{'A':1.41E+18,'n':-2.05344973,'Ea':-232.0064051,'c':15243859.12,'d':-0.001187694,'f':8.01E-12},\n",
    "                                 '2 OH <=> H2O + O':{'A':354.5770856,'n':2.938741717,'Ea':-1836.492972,'c':12010735.18,'d':-4.87E-05,'f':1.22E-12},\n",
    "                                 'CH3 + HO2 <=> CH4 + O2':{'A':3.19e3,'n':2.670857,'Ea':-4080.73,'c':0.0,'d':0.0,'f':0.0},\n",
    "                                 'CH3 + HO2 <=> CH3O + OH':{'A':8.38e11,'n':.29,'Ea':-785.45,'c':0.0,'d':0.0,'f':0.0}}"
   ]
  },
  {
   "cell_type": "code",
   "execution_count": 97,
   "metadata": {},
   "outputs": [],
   "source": [
    "def calculate_six_parameter_fit(reaction,dictonary,temperature):\n",
    "        #finish editing this \n",
    "        #calc Ea,c,d,F seprately \n",
    "        A = dictonary[reaction]['A']\n",
    "        n = dictonary[reaction]['n']\n",
    "        Ea_temp = dictonary[reaction]['Ea']/(1.987*temperature)\n",
    "        c_temp = dictonary[reaction]['c']/((1.987*temperature)**3)\n",
    "        d_temp = dictonary[reaction]['d']*(1.987*temperature)\n",
    "        f_temp = dictonary[reaction]['f']* ((1.987*temperature)**3)\n",
    "\n",
    "        k = A*(temperature**n)*np.exp(-Ea_temp-c_temp-d_temp-f_temp)\n",
    "        return k "
   ]
  },
  {
   "cell_type": "code",
   "execution_count": 155,
   "metadata": {},
   "outputs": [
    {
     "data": {
      "text/plain": [
       "<matplotlib.collections.PathCollection at 0x7fec54bb3240>"
      ]
     },
     "execution_count": 155,
     "metadata": {},
     "output_type": "execute_result"
    },
    {
     "data": {
      "image/png": "[encoded data removed]",
      "text/plain": [
       "<Figure size 432x288 with 1 Axes>"
      ]
     },
     "metadata": {
      "needs_background": "light"
     },
     "output_type": "display_data"
    }
   ],
   "source": [
    "xdata = []\n",
    "ydata = []\n",
    "for t in np.arange(200,2400):\n",
    "    xdata.append(t)\n",
    "    ydata.append(calculate_six_parameter_fit('2 HO2 <=> H2O2 + O2',six_parameter_fit_nominal_parameters_dict,t))\n",
    "\n",
    "    \n",
    "ydata = np.array(ydata)\n",
    "ydata = np.log(ydata)\n",
    "plt.scatter(xdata,ydata)"
   ]
  },
  {
   "cell_type": "code",
   "execution_count": 156,
   "metadata": {},
   "outputs": [
    {
     "name": "stdout",
     "output_type": "stream",
     "text": [
      "[ 6.86178043e+00  3.30021802e+00 -3.62056446e+03]\n"
     ]
    },
    {
     "data": {
      "text/plain": [
       "[<matplotlib.lines.Line2D at 0x7fec5468bd30>]"
      ]
     },
     "execution_count": 156,
     "metadata": {},
     "output_type": "execute_result"
    },
    {
     "data": {
      "image/png": "[encoded data removed]",
      "text/plain": [
       "<Figure size 432x288 with 1 Axes>"
      ]
     },
     "metadata": {
      "needs_background": "light"
     },
     "output_type": "display_data"
    }
   ],
   "source": [
    "#fitting sigmas \n",
    "import matplotlib.pyplot as plt\n",
    "from scipy.optimize import curve_fit \n",
    "def func(x, A,n,Ea):\n",
    "    return np.log(A)+np.log(x)*n + (-Ea/(1.987*x))\n",
    "plt.scatter(xdata, ydata,label='data')\n",
    "popt, pcov = curve_fit(func, xdata, ydata)\n",
    "print(popt)\n",
    "test_array = []\n",
    "for T in xdata:\n",
    "    test_array.append(np.log(popt[0]*T**popt[1]*np.exp(-popt[2]/(1.987*T))))\n",
    "plt.plot(xdata,test_array,'r')    "
   ]
  },
  {
   "cell_type": "code",
   "execution_count": 169,
   "metadata": {},
   "outputs": [
    {
     "name": "stderr",
     "output_type": "stream",
     "text": [
      "/home/carly/anaconda3/lib/python3.7/site-packages/ipykernel_launcher.py:5: RuntimeWarning: invalid value encountered in log\n",
      "  \"\"\"\n"
     ]
    },
    {
     "name": "stdout",
     "output_type": "stream",
     "text": [
      "[ 1.30000000e+04  1.99715235e+00 -3.62804407e+03  9.33909734e+07\n",
      " -7.32521000e-04  8.20000000e-12]\n",
      "[27.98622946 27.97431753 27.96237033 ... 28.37829101 28.37915367\n",
      " 28.38001533]\n"
     ]
    },
    {
     "data": {
      "image/png": "[encoded data removed]",
      "text/plain": [
       "<Figure size 432x288 with 1 Axes>"
      ]
     },
     "metadata": {
      "needs_background": "light"
     },
     "output_type": "display_data"
    }
   ],
   "source": [
    "#fitting sigmas \n",
    "import matplotlib.pyplot as plt\n",
    "from scipy.optimize import curve_fit \n",
    "def func2(x, A,n,Ea,c,d,f):\n",
    "    return np.log(A)+np.log(x)*n + (-Ea/(1.987*x)) + (-c/((1.987*x)**3)) +  (-d*(1.987*x)) + (-f*((1.987*x)**3))\n",
    "popt, pcov = curve_fit(func2, xdata, ydata,maxfev=1000000)\n",
    "#popt, pcov = curve_fit(func2, xdata, ydata, method='dogbox',maxfev=10000)\n",
    "\n",
    "\n",
    "#method{‘lm’, ‘trf’, ‘dogbox’}, optional\n",
    "plt.scatter(xdata, ydata,label='data')\n",
    "print(popt)\n",
    "test_array = []\n",
    "for T in xdata:\n",
    "    A = popt[0]\n",
    "    n = popt[1]\n",
    "    Ea_temp = popt[2]/(1.987*T)\n",
    "    c_temp = popt[3]/((1.987*T)**3)\n",
    "    d_temp = popt[4]*(1.987*T)\n",
    "    f_temp =popt[5]* ((1.987*T)**3)\n",
    "    \n",
    "    k = A*(T**n)*np.exp(-Ea_temp-c_temp-d_temp-f_temp)\n",
    "    test_array.append(np.log(k))\n",
    "plt.plot(xdata,test_array,'r')  \n"
   ]
  },
  {
   "cell_type": "code",
   "execution_count": null,
   "metadata": {},
   "outputs": [],
   "source": [
    "#calculate original 3 parameter fit \n",
    "#fitting sigmas \n",
    "import pandas as pd \n",
    "import matplotlib.pyplot as plt\n",
    "from scipy.optimize import curve_fit \n",
    "\n",
    "nominal_rc_df = pd.read_csv('')\n",
    "xdata=nominal_rc_df['T']\n",
    "ydata=nominal_rc_df['k']\n",
    "\n",
    "def func(x, A,n,Ea):\n",
    "    return np.log(A)+np.log(x)*n + (-Ea/(1.987*x))\n",
    "plt.scatter(xdata, ydata,label='data')\n",
    "popt, pcov = curve_fit(func, xdata, ydata,maxfev=1000000)\n",
    "print(popt)\n",
    "A_nominal_3pf = popt[0]\n",
    "n_nominal_3pf = popt[1]\n",
    "Ea_nominal_3pf = popt[2]/(1.987*1000)\n",
    "test_array = []\n",
    "for T in xdata:\n",
    "    test_array.append(np.log(popt[0]*T**popt[1]*np.exp(-popt[2]/(1.987*T))))\n",
    "plt.plot(xdata,test_array,'r')\n",
    "\n"
   ]
  },
  {
   "cell_type": "code",
   "execution_count": null,
   "metadata": {},
   "outputs": [],
   "source": [
    "#looping over csvs and calculating sens coefficients for 3pf \n",
    "\n",
    "import pandas as pd \n",
    "import matplotlib.pyplot as plt\n",
    "from scipy.optimize import curve_fit \n",
    "A_list_3pf = [] \n",
    "n_list_3pf = []\n",
    "Ea_list_3pf = []\n",
    "\n",
    "for csv in csv list:\n",
    "    df = pd.read_csv('')\n",
    "    xdata=df['T']\n",
    "    ydata=df['k']\n",
    "    amount_perturbed = \n",
    "\n",
    "    def func(x, A,n,Ea):\n",
    "        return np.log(A)+np.log(x)*n + (-Ea/(1.987*x))\n",
    "    plt.scatter(xdata, ydata,label='data')\n",
    "    popt, pcov = curve_fit(func, xdata, ydata,maxfev=1000000)\n",
    "    print(popt)\n",
    "    A = popt[0]\n",
    "    n = popt[1]\n",
    "    Ea = popt[2]/(1.987*1000)\n",
    "    test_array = []\n",
    "    for T in xdata:\n",
    "        test_array.append(np.log(popt[0]*T**popt[1]*np.exp(-popt[2]/(1.987*T))))\n",
    "    plt.plot(xdata,test_array,'r')  \n",
    "    \n",
    "    sensitivty_A = (A - A_nominal_3pf)/amount_perturbed\n",
    "    sensitivity_n = (n-n_nominal_3pf)/amount_perturbed\n",
    "    sensitivty_Ea = (Ea - Ea_nominal_3pf)/amount_perturbed\n",
    "    \n",
    "    A_list_3pf.append(sensitivty_A)\n",
    "    n_list_3pf.append(sensitivity_n)\n",
    "    Ea_list_3pf.append(sensitivty_Ea)"
   ]
  },
  {
   "cell_type": "code",
   "execution_count": null,
   "metadata": {},
   "outputs": [],
   "source": []
  },
  {
   "cell_type": "code",
   "execution_count": null,
   "metadata": {},
   "outputs": [],
   "source": []
  },
  {
   "cell_type": "code",
   "execution_count": null,
   "metadata": {},
   "outputs": [],
   "source": [
    "#calculating original 6 paramter fit \n",
    "#fitting sigmas \n",
    "import pandas as pd \n",
    "import matplotlib.pyplot as plt\n",
    "from scipy.optimize import curve_fit \n",
    "\n",
    "nominal_rc_df = pd.read_csv('')\n",
    "xdata=nominal_rc_df['T']\n",
    "ydata=nominal_rc_df['k']\n",
    "def func2(x, A,n,Ea,c,d,f):\n",
    "    return np.log(A)+np.log(x)*n + (-Ea/(1.987*x)) + (-c/((1.987*x)**3)) +  (-d*(1.987*x)) + (-f*((1.987*x)**3))\n",
    "popt, pcov = curve_fit(func2, xdata, ydata,maxfev=1000000)\n",
    "#popt, pcov = curve_fit(func2, xdata, ydata, method='dogbox',maxfev=10000)\n",
    "\n",
    "\n",
    "#method{‘lm’, ‘trf’, ‘dogbox’}, optional\n",
    "plt.scatter(xdata, ydata,label='data')\n",
    "print(popt)\n",
    "A_nominal_spf = popt[0]\n",
    "n_nominal_spf = popt[1]\n",
    "Ea_nominal_spf = popt[2]/(1.987*1000)\n",
    "c_nominal_spf = popt[3]/((1.987*1000)**3)\n",
    "d_nominal_spf = popt[4]/((1.987*1000)**-1)\n",
    "f_nominal_spf = popt[5]/((1.987*1000)**-3)\n",
    "\n",
    "test_array = []\n",
    "for T in xdata:\n",
    "    A = popt[0]\n",
    "    n = popt[1]\n",
    "    Ea_temp = popt[2]/(1.987*T)\n",
    "    c_temp = popt[3]/((1.987*T)**3)\n",
    "    d_temp = popt[4]*(1.987*T)\n",
    "    f_temp =popt[5]* ((1.987*T)**3)\n",
    "    \n",
    "    k = A*(T**n)*np.exp(-Ea_temp-c_temp-d_temp-f_temp)\n",
    "    test_array.append(np.log(k))\n",
    "plt.plot(xdata,test_array,'r')  "
   ]
  },
  {
   "cell_type": "code",
   "execution_count": null,
   "metadata": {},
   "outputs": [],
   "source": [
    "#looping over csvs and calculating sens coefficients for 6pf \n",
    "\n",
    "import pandas as pd \n",
    "import matplotlib.pyplot as plt\n",
    "from scipy.optimize import curve_fit \n",
    "A_list_6pf = [] \n",
    "n_list_6pf = []\n",
    "Ea_list_6pf = []\n",
    "c_list_6pf = []\n",
    "d_list_6pf = []\n",
    "f_list_6pf = []\n",
    "\n",
    "for csv in csv list:\n",
    "    df = pd.read_csv('')\n",
    "    xdata=df['T']\n",
    "    ydata=df['k']\n",
    "    amount_perturbed = \n",
    "    def func2(x, A,n,Ea,c,d,f):\n",
    "        return np.log(A)+np.log(x)*n + (-Ea/(1.987*x)) + (-c/((1.987*x)**3)) +  (-d*(1.987*x)) + (-f*((1.987*x)**3))\n",
    "    popt, pcov = curve_fit(func2, xdata, ydata,maxfev=1000000)\n",
    "    #popt, pcov = curve_fit(func2, xdata, ydata, method='dogbox',maxfev=10000)\n",
    "    test_array = []\n",
    "    for T in xdata:\n",
    "        A = popt[0]\n",
    "        n = popt[1]\n",
    "        Ea_temp = popt[2]/(1.987*T)\n",
    "        c_temp = popt[3]/((1.987*T)**3)\n",
    "        d_temp = popt[4]*(1.987*T)\n",
    "        f_temp =popt[5]* ((1.987*T)**3)\n",
    "\n",
    "        k = A*(T**n)*np.exp(-Ea_temp-c_temp-d_temp-f_temp)\n",
    "        test_array.append(np.log(k))\n",
    "    plt.plot(xdata,test_array,'r')  \n",
    "\n",
    "    #method{‘lm’, ‘trf’, ‘dogbox’}, optional\n",
    "    plt.scatter(xdata, ydata,label='data')\n",
    "    print(popt)\n",
    "    A = popt[0]\n",
    "    n = popt[1]\n",
    "    Ea = popt[2]/(1.987*1000)\n",
    "    c = popt[3]/((1.987*1000)**3)\n",
    "    d = popt[4]/((1.987*1000)**-1)\n",
    "    f = popt[5]/((1.987*1000)**-3)\n",
    "    \n",
    "    sensitivty_A = (A - A_nominal_6pf)/amount_perturbed\n",
    "    sensitivity_n = (n-n_nominal_6pf)/amount_perturbed\n",
    "    sensitivty_Ea = (Ea - Ea_nominal_6pf)/amount_perturbed\n",
    "    sensitivity_c = (c - c_nominal_6pf)/amount_perturbed\n",
    "    sensitivity_d = (d - d_nominal_6pf)/amount_perturbed\n",
    "    sensitivity_f = (f - f_nominal_6pf)/amount_perturbed\n",
    "    \n",
    "    A_list_6pf.append(sensitivty_A)\n",
    "    n_list_6pf.append(sensitivity_n)\n",
    "    Ea_list_6pf.append(sensitivty_Ea)    \n",
    "    c_list_6pf.append(sensitivity_c)\n",
    "    d_list_6pf.append(sensitivity_d)\n",
    "    f_list_6pf.append(sensitivity_f)\n",
    "    \n"
   ]
  }
 ],
 "metadata": {
  "kernelspec": {
   "display_name": "Python 3",
   "language": "python",
   "name": "python3"
  },
  "language_info": {
   "codemirror_mode": {
    "name": "ipython",
    "version": 3
   },
   "file_extension": ".py",
   "mimetype": "text/x-python",
   "name": "python",
   "nbconvert_exporter": "python",
   "pygments_lexer": "ipython3",
   "version": "3.7.3"
  }
 },
 "nbformat": 4,
 "nbformat_minor": 2
}
