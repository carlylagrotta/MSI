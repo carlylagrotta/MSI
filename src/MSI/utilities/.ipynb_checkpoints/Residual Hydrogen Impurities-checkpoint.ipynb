{
 "cells": [
  {
   "cell_type": "code",
   "execution_count": 29,
   "metadata": {},
   "outputs": [],
   "source": [
    "#define formula to calcualte X bar\n",
    "#X_bar  = Ah*exp(-Ta/T)\n",
    "#result is in PPM\n",
    "import numpy as np\n",
    "\n",
    "def calc_X_bar(T):\n",
    "    A=682.93\n",
    "    Tah=12916\n",
    "    X_bar = A*np.exp(-Tah/T)\n",
    "    return X_bar"
   ]
  },
  {
   "cell_type": "code",
   "execution_count": 30,
   "metadata": {},
   "outputs": [],
   "source": [
    "def calc_variance(UF=41):\n",
    "    variance = (1/4)*(np.log(UF))**2\n",
    "    \n",
    "    return variance"
   ]
  },
  {
   "cell_type": "code",
   "execution_count": 31,
   "metadata": {},
   "outputs": [],
   "source": [
    "def generate_random_variable(variance,mean=0):\n",
    "    sd = np.sqrt(variance)  \n",
    "    Xi = np.random.lognormal(mean=mean, sigma=sd)\n",
    "    return Xi"
   ]
  },
  {
   "cell_type": "code",
   "execution_count": 34,
   "metadata": {},
   "outputs": [],
   "source": [
    "def calculate_H_ppm(Xi,X_bar):\n",
    "    X_H = Xi*X_bar\n",
    "    return X_H/1e6"
   ]
  },
  {
   "cell_type": "code",
   "execution_count": 35,
   "metadata": {},
   "outputs": [
    {
     "name": "stdout",
     "output_type": "stream",
     "text": [
      "0.06636932068321327\n",
      "3.447654373651626\n",
      "0.6758841786941769\n"
     ]
    },
    {
     "data": {
      "text/plain": [
       "4.4857973800464054e-08"
      ]
     },
     "execution_count": 35,
     "metadata": {},
     "output_type": "execute_result"
    }
   ],
   "source": [
    "#Hong 0\n",
    "X_bar= calc_X_bar(1398)\n",
    "print(X_bar)\n",
    "variance = calc_variance()\n",
    "print(variance)\n",
    "Xi = generate_random_variable(variance)\n",
    "print(Xi)\n",
    "calculate_H_ppm(Xi,X_bar)"
   ]
  },
  {
   "cell_type": "code",
   "execution_count": 36,
   "metadata": {},
   "outputs": [
    {
     "name": "stdout",
     "output_type": "stream",
     "text": [
      "0.013444595106722515\n",
      "3.447654373651626\n",
      "20.051597616451918\n"
     ]
    },
    {
     "data": {
      "text/plain": [
       "2.695856111961183e-07"
      ]
     },
     "execution_count": 36,
     "metadata": {},
     "output_type": "execute_result"
    }
   ],
   "source": [
    "#Hong 2\n",
    "X_bar= calc_X_bar(1192)\n",
    "print(X_bar)\n",
    "variance = calc_variance()\n",
    "print(variance)\n",
    "Xi = generate_random_variable(variance)\n",
    "print(Xi)\n",
    "calculate_H_ppm(Xi,X_bar)"
   ]
  },
  {
   "cell_type": "code",
   "execution_count": 37,
   "metadata": {},
   "outputs": [
    {
     "name": "stdout",
     "output_type": "stream",
     "text": [
      "0.0033691433866998863\n",
      "3.447654373651626\n",
      "0.33575738813589634\n"
     ]
    },
    {
     "data": {
      "text/plain": [
       "1.131214783773682e-09"
      ]
     },
     "execution_count": 37,
     "metadata": {},
     "output_type": "execute_result"
    }
   ],
   "source": [
    "#Hong 3\n",
    "X_bar= calc_X_bar(1057)\n",
    "print(X_bar)\n",
    "variance = calc_variance()\n",
    "print(variance)\n",
    "Xi = generate_random_variable(variance)\n",
    "print(Xi)\n",
    "calculate_H_ppm(Xi,X_bar)"
   ]
  },
  {
   "cell_type": "code",
   "execution_count": 38,
   "metadata": {},
   "outputs": [
    {
     "name": "stdout",
     "output_type": "stream",
     "text": [
      "0.01226691353581502\n",
      "3.447654373651626\n",
      "0.48932379792459596\n"
     ]
    },
    {
     "data": {
      "text/plain": [
       "6.00249272015764e-09"
      ]
     },
     "execution_count": 38,
     "metadata": {},
     "output_type": "execute_result"
    }
   ],
   "source": [
    "#Hong 4\n",
    "X_bar= calc_X_bar(1182)\n",
    "print(X_bar)\n",
    "variance = calc_variance()\n",
    "print(variance)\n",
    "Xi = generate_random_variable(variance)\n",
    "print(Xi)\n",
    "calculate_H_ppm(Xi,X_bar)"
   ]
  },
  {
   "cell_type": "code",
   "execution_count": 39,
   "metadata": {},
   "outputs": [
    {
     "name": "stdout",
     "output_type": "stream",
     "text": [
      "0.7090562626527414\n",
      "3.447654373651626\n",
      "0.019552353551395524\n"
     ]
    },
    {
     "data": {
      "text/plain": [
       "1.3863718735217564e-08"
      ]
     },
     "execution_count": 39,
     "metadata": {},
     "output_type": "execute_result"
    }
   ],
   "source": [
    "#Hong 4\n",
    "X_bar= calc_X_bar(1880)\n",
    "print(X_bar)\n",
    "variance = calc_variance()\n",
    "print(variance)\n",
    "Xi = generate_random_variable(variance)\n",
    "print(Xi)\n",
    "calculate_H_ppm(Xi,X_bar)"
   ]
  },
  {
   "cell_type": "code",
   "execution_count": 41,
   "metadata": {},
   "outputs": [
    {
     "name": "stdout",
     "output_type": "stream",
     "text": [
      "0.005608400172724567\n",
      "3.447654373651626\n",
      "1.0995453980434238\n"
     ]
    },
    {
     "data": {
      "text/plain": [
       "6.16669060030524e-09"
      ]
     },
     "execution_count": 41,
     "metadata": {},
     "output_type": "execute_result"
    }
   ],
   "source": [
    "#Hong 5\n",
    "X_bar= calc_X_bar(1103)\n",
    "print(X_bar)\n",
    "variance = calc_variance()\n",
    "print(variance)\n",
    "Xi = generate_random_variable(variance)\n",
    "print(Xi)\n",
    "calculate_H_ppm(Xi,X_bar)"
   ]
  },
  {
   "cell_type": "code",
   "execution_count": 42,
   "metadata": {},
   "outputs": [
    {
     "name": "stdout",
     "output_type": "stream",
     "text": [
      "0.018471561531333214\n",
      "3.447654373651626\n",
      "0.40310911828543117\n"
     ]
    },
    {
     "data": {
      "text/plain": [
       "7.446054882250821e-09"
      ]
     },
     "execution_count": 42,
     "metadata": {},
     "output_type": "execute_result"
    }
   ],
   "source": [
    "#Lam H2O H 0\n",
    "X_bar= calc_X_bar(1228)\n",
    "print(X_bar)\n",
    "variance = calc_variance()\n",
    "print(variance)\n",
    "Xi = generate_random_variable(variance)\n",
    "print(Xi)\n",
    "calculate_H_ppm(Xi,X_bar)"
   ]
  },
  {
   "cell_type": "code",
   "execution_count": 43,
   "metadata": {},
   "outputs": [
    {
     "name": "stdout",
     "output_type": "stream",
     "text": [
      "0.0011572908513345914\n",
      "3.447654373651626\n",
      "4.834347292490249\n"
     ]
    },
    {
     "data": {
      "text/plain": [
       "5.594745893773117e-09"
      ]
     },
     "execution_count": 43,
     "metadata": {},
     "output_type": "execute_result"
    }
   ],
   "source": [
    "#Lam H2O H 1\n",
    "X_bar= calc_X_bar(972)\n",
    "print(X_bar)\n",
    "variance = calc_variance()\n",
    "print(variance)\n",
    "Xi = generate_random_variable(variance)\n",
    "print(Xi)\n",
    "calculate_H_ppm(Xi,X_bar)"
   ]
  },
  {
   "cell_type": "code",
   "execution_count": 44,
   "metadata": {},
   "outputs": [
    {
     "name": "stdout",
     "output_type": "stream",
     "text": [
      "0.0032163292078667837\n",
      "3.447654373651626\n",
      "0.017788180097977634\n"
     ]
    },
    {
     "data": {
      "text/plain": [
       "5.721264320392009e-11"
      ]
     },
     "execution_count": 44,
     "metadata": {},
     "output_type": "execute_result"
    }
   ],
   "source": [
    "#Lam H2O H 2\n",
    "X_bar= calc_X_bar(1053)\n",
    "print(X_bar)\n",
    "variance = calc_variance()\n",
    "print(variance)\n",
    "Xi = generate_random_variable(variance)\n",
    "print(Xi)\n",
    "calculate_H_ppm(Xi,X_bar)"
   ]
  },
  {
   "cell_type": "code",
   "execution_count": 45,
   "metadata": {},
   "outputs": [
    {
     "name": "stdout",
     "output_type": "stream",
     "text": [
      "0.013082005184817362\n",
      "3.447654373651626\n",
      "0.5050031669415626\n"
     ]
    },
    {
     "data": {
      "text/plain": [
       "6.606454048278709e-09"
      ]
     },
     "execution_count": 45,
     "metadata": {},
     "output_type": "execute_result"
    }
   ],
   "source": [
    "#Lam H2O H 3\n",
    "X_bar= calc_X_bar(1189)\n",
    "print(X_bar)\n",
    "variance = calc_variance()\n",
    "print(variance)\n",
    "Xi = generate_random_variable(variance)\n",
    "print(Xi)\n",
    "calculate_H_ppm(Xi,X_bar)"
   ]
  },
  {
   "cell_type": "code",
   "execution_count": 46,
   "metadata": {},
   "outputs": [
    {
     "name": "stdout",
     "output_type": "stream",
     "text": [
      "0.045461821521074336\n",
      "3.447654373651626\n",
      "0.014059222252620485\n"
     ]
    },
    {
     "data": {
      "text/plain": [
       "6.391578527737492e-10"
      ]
     },
     "execution_count": 46,
     "metadata": {},
     "output_type": "execute_result"
    }
   ],
   "source": [
    "#Lam H2O H 4\n",
    "X_bar= calc_X_bar(1343)\n",
    "print(X_bar)\n",
    "variance = calc_variance()\n",
    "print(variance)\n",
    "Xi = generate_random_variable(variance)\n",
    "print(Xi)\n",
    "calculate_H_ppm(Xi,X_bar)"
   ]
  },
  {
   "cell_type": "code",
   "execution_count": null,
   "metadata": {},
   "outputs": [],
   "source": [
    "#Wang_raw_data_\n",
    "X_bar= calc_X_bar(1343)\n",
    "print(X_bar)\n",
    "variance = calc_variance()\n",
    "print(variance)\n",
    "Xi = generate_random_variable(variance)\n",
    "print(Xi)\n",
    "calculate_H_ppm(Xi,X_bar)"
   ]
  },
  {
   "cell_type": "code",
   "execution_count": 47,
   "metadata": {},
   "outputs": [
    {
     "name": "stdout",
     "output_type": "stream",
     "text": [
      "0.04078213140924239\n",
      "3.447654373651626\n",
      "0.41214460585810914\n"
     ]
    },
    {
     "data": {
      "text/plain": [
       "1.6808135475715816e-08"
      ]
     },
     "execution_count": 47,
     "metadata": {},
     "output_type": "execute_result"
    }
   ],
   "source": [
    "#Wang_ch3_0\n",
    "X_bar= calc_X_bar(1328)\n",
    "print(X_bar)\n",
    "variance = calc_variance()\n",
    "print(variance)\n",
    "Xi = generate_random_variable(variance)\n",
    "print(Xi)\n",
    "calculate_H_ppm(Xi,X_bar)"
   ]
  },
  {
   "cell_type": "code",
   "execution_count": 48,
   "metadata": {},
   "outputs": [
    {
     "name": "stdout",
     "output_type": "stream",
     "text": [
      "0.13394986065525682\n",
      "3.447654373651626\n",
      "0.13095321858891998\n"
     ]
    },
    {
     "data": {
      "text/plain": [
       "1.754116538234322e-08"
      ]
     },
     "execution_count": 48,
     "metadata": {},
     "output_type": "execute_result"
    }
   ],
   "source": [
    "#Wang_ch3_0\n",
    "X_bar= calc_X_bar(1513)\n",
    "print(X_bar)\n",
    "variance = calc_variance()\n",
    "print(variance)\n",
    "Xi = generate_random_variable(variance)\n",
    "print(Xi)\n",
    "calculate_H_ppm(Xi,X_bar)"
   ]
  },
  {
   "cell_type": "code",
   "execution_count": 49,
   "metadata": {},
   "outputs": [
    {
     "name": "stdout",
     "output_type": "stream",
     "text": [
      "0.021324367982188418\n",
      "3.447654373651626\n",
      "2.283976621005974\n"
     ]
    },
    {
     "data": {
      "text/plain": [
       "4.870435792904668e-08"
      ]
     },
     "execution_count": 49,
     "metadata": {},
     "output_type": "execute_result"
    }
   ],
   "source": [
    "#vandasuven_CH3_0\n",
    "X_bar= calc_X_bar(1245)\n",
    "print(X_bar)\n",
    "variance = calc_variance()\n",
    "print(variance)\n",
    "Xi = generate_random_variable(variance)\n",
    "print(Xi)\n",
    "calculate_H_ppm(Xi,X_bar)"
   ]
  },
  {
   "cell_type": "code",
   "execution_count": 50,
   "metadata": {},
   "outputs": [
    {
     "name": "stdout",
     "output_type": "stream",
     "text": [
      "0.024722225874269674\n",
      "3.447654373651626\n",
      "0.06959121021842665\n"
     ]
    },
    {
     "data": {
      "text/plain": [
       "1.7204496178837274e-09"
      ]
     },
     "execution_count": 50,
     "metadata": {},
     "output_type": "execute_result"
    }
   ],
   "source": [
    "#vandasuven_CH3_1\n",
    "X_bar= calc_X_bar(1263)\n",
    "print(X_bar)\n",
    "variance = calc_variance()\n",
    "print(variance)\n",
    "Xi = generate_random_variable(variance)\n",
    "print(Xi)\n",
    "calculate_H_ppm(Xi,X_bar)"
   ]
  },
  {
   "cell_type": "code",
   "execution_count": 51,
   "metadata": {},
   "outputs": [
    {
     "name": "stdout",
     "output_type": "stream",
     "text": [
      "1.6849625951510179\n",
      "3.447654373651626\n",
      "29.260105190015462\n"
     ]
    },
    {
     "data": {
      "text/plain": [
       "4.9302182775360226e-05"
      ]
     },
     "execution_count": 51,
     "metadata": {},
     "output_type": "execute_result"
    }
   ],
   "source": [
    "#vandasuven_CH3_2\n",
    "X_bar= calc_X_bar(2151)\n",
    "print(X_bar)\n",
    "variance = calc_variance()\n",
    "print(variance)\n",
    "Xi = generate_random_variable(variance)\n",
    "print(Xi)\n",
    "calculate_H_ppm(Xi,X_bar)"
   ]
  },
  {
   "cell_type": "code",
   "execution_count": 52,
   "metadata": {},
   "outputs": [
    {
     "name": "stdout",
     "output_type": "stream",
     "text": [
      "0.501952345639636\n",
      "3.447654373651626\n",
      "0.15808115120577393\n"
     ]
    },
    {
     "data": {
      "text/plain": [
       "7.93492046491522e-08"
      ]
     },
     "execution_count": 52,
     "metadata": {},
     "output_type": "execute_result"
    }
   ],
   "source": [
    "#Friedrichs_CH3_0\n",
    "X_bar= calc_X_bar(1790)\n",
    "print(X_bar)\n",
    "variance = calc_variance()\n",
    "print(variance)\n",
    "Xi = generate_random_variable(variance)\n",
    "print(Xi)\n",
    "calculate_H_ppm(Xi,X_bar)"
   ]
  },
  {
   "cell_type": "code",
   "execution_count": 53,
   "metadata": {},
   "outputs": [
    {
     "name": "stdout",
     "output_type": "stream",
     "text": [
      "0.7898507308840573\n",
      "3.447654373651626\n",
      "14.519751571914592\n"
     ]
    },
    {
     "data": {
      "text/plain": [
       "1.146843639133168e-05"
      ]
     },
     "execution_count": 53,
     "metadata": {},
     "output_type": "execute_result"
    }
   ],
   "source": [
    "#Friedrichs_CH3_1\n",
    "X_bar= calc_X_bar(1910)\n",
    "print(X_bar)\n",
    "variance = calc_variance()\n",
    "print(variance)\n",
    "Xi = generate_random_variable(variance)\n",
    "print(Xi)\n",
    "calculate_H_ppm(Xi,X_bar)"
   ]
  },
  {
   "cell_type": "code",
   "execution_count": 54,
   "metadata": {},
   "outputs": [
    {
     "name": "stdout",
     "output_type": "stream",
     "text": [
      "5.581985735500408\n",
      "3.447654373651626\n",
      "0.9413089951491319\n"
     ]
    },
    {
     "data": {
      "text/plain": [
       "5.254373383620677e-06"
      ]
     },
     "execution_count": 54,
     "metadata": {},
     "output_type": "execute_result"
    }
   ],
   "source": [
    "#Venkatech_HC3_0.yaml\n",
    "X_bar= calc_X_bar(2687)\n",
    "print(X_bar)\n",
    "variance = calc_variance()\n",
    "print(variance)\n",
    "Xi = generate_random_variable(variance)\n",
    "print(Xi)\n",
    "calculate_H_ppm(Xi,X_bar)"
   ]
  },
  {
   "cell_type": "code",
   "execution_count": null,
   "metadata": {},
   "outputs": [],
   "source": []
  }
 ],
 "metadata": {
  "kernelspec": {
   "display_name": "Python 3",
   "language": "python",
   "name": "python3"
  },
  "language_info": {
   "codemirror_mode": {
    "name": "ipython",
    "version": 3
   },
   "file_extension": ".py",
   "mimetype": "text/x-python",
   "name": "python",
   "nbconvert_exporter": "python",
   "pygments_lexer": "ipython3",
   "version": "3.7.6"
  }
 },
 "nbformat": 4,
 "nbformat_minor": 4
}
