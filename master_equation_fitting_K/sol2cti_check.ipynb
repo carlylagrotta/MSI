{
 "cells": [
  {
   "cell_type": "code",
   "execution_count": 2,
   "metadata": {},
   "outputs": [],
   "source": [
    "import cantera as ct\n",
    "gas2 = ct.Solution('FFCM1_custom_cheb_test_extra_zeros.cti')\n"
   ]
  },
  {
   "cell_type": "code",
   "execution_count": 5,
   "metadata": {},
   "outputs": [
    {
     "name": "stdout",
     "output_type": "stream",
     "text": [
      "HO2 + OH <=> H2O + O2\n"
     ]
    }
   ],
   "source": [
    "print(gas2.reaction_equations()[3])"
   ]
  },
  {
   "cell_type": "code",
   "execution_count": 6,
   "metadata": {},
   "outputs": [
    {
     "name": "stdout",
     "output_type": "stream",
     "text": [
      "[[ 1.04095e+01  0.00000e+00]\n",
      " [-3.47767e-01  0.00000e+00]\n",
      " [ 7.43022e-02  0.00000e+00]\n",
      " [ 8.72900e-02  0.00000e+00]\n",
      " [ 4.99232e-02  0.00000e+00]\n",
      " [ 2.53723e-02  0.00000e+00]\n",
      " [ 1.13943e-02  0.00000e+00]\n",
      " [ 4.37814e-03  0.00000e+00]\n",
      " [ 1.03394e-03  0.00000e+00]\n",
      " [-1.97886e-04  0.00000e+00]\n",
      " [-7.21640e-04  0.00000e+00]\n",
      " [-5.88176e-04  0.00000e+00]\n",
      " [-6.64683e-04  0.00000e+00]\n",
      " [-2.23826e-04  0.00000e+00]\n",
      " [-5.75356e-04  0.00000e+00]]\n"
     ]
    }
   ],
   "source": [
    "print(gas2.reaction(3).coeffs)"
   ]
  },
  {
   "cell_type": "code",
   "execution_count": null,
   "metadata": {},
   "outputs": [],
   "source": []
  }
 ],
 "metadata": {
  "kernelspec": {
   "display_name": "Python 3",
   "language": "python",
   "name": "python3"
  },
  "language_info": {
   "codemirror_mode": {
    "name": "ipython",
    "version": 3
   },
   "file_extension": ".py",
   "mimetype": "text/x-python",
   "name": "python",
   "nbconvert_exporter": "python",
   "pygments_lexer": "ipython3",
   "version": "3.7.3"
  }
 },
 "nbformat": 4,
 "nbformat_minor": 2
}
